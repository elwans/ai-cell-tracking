{
  "nbformat": 4,
  "nbformat_minor": 0,
  "metadata": {
    "colab": {
      "provenance": []
    },
    "kernelspec": {
      "name": "python3",
      "display_name": "Python 3"
    },
    "language_info": {
      "name": "python"
    }
  },
  "cells": [
    {
      "cell_type": "markdown",
      "source": [
        "This script provides instructions for installing napari onto a local device. It then outlines instructions to reproduce the visualisers we created with napari"
      ],
      "metadata": {
        "id": "qcQN4MhOqcqv"
      }
    },
    {
      "cell_type": "markdown",
      "source": [
        "# *Setup*"
      ],
      "metadata": {
        "id": "QsebyfiZ8eFf"
      }
    },
    {
      "cell_type": "markdown",
      "source": [
        "## Installing Conda"
      ],
      "metadata": {
        "id": "sSRlww8C6tu5"
      }
    },
    {
      "cell_type": "markdown",
      "source": [
        "Running napari requires users to setup a version of conda, users must download the version suitable for their own system from this website\n",
        "\n",
        "[miniconda](https://repo.anaconda.com/miniconda/)\n",
        "\n",
        "\n"
      ],
      "metadata": {
        "id": "-wYraRAJ64_0"
      }
    },
    {
      "cell_type": "markdown",
      "source": [
        "## Installing Napari\n"
      ],
      "metadata": {
        "id": "h9GvFhzJ6yM7"
      }
    },
    {
      "cell_type": "markdown",
      "source": [
        "  If using windows\n",
        "  *   open **anaconda prompt**\n",
        "  *   setup and activate a new python environemnt in conda for napari\n",
        "\n",
        "  *   in **anaconda prompt** run these 2 commands\n",
        "  *     pip install napari\n",
        "  *     napari\n",
        "\n",
        "\n",
        "\n",
        "  if using mac\n",
        "  *   perform the following in **terminal**\n",
        "  *   setup and activate a new python environemnt in conda for napari\n",
        "  *     pip install napari\n",
        "  *     napari\n",
        "\n"
      ],
      "metadata": {
        "id": "wgI8vM21ria4"
      }
    },
    {
      "cell_type": "markdown",
      "source": [
        "## The Trackastara Plugin"
      ],
      "metadata": {
        "id": "ZE_3h_Slr_bh"
      }
    },
    {
      "cell_type": "markdown",
      "source": [
        "Follow the installation guide of the trackastra plugin for napari found in the link [here](https://github.com/weigertlab/napari-trackastra)\n",
        "\n",
        "to install either run\n",
        "\n",
        "```\n",
        "pip install napari-trackastra\n",
        "\n",
        "```\n",
        "Or navigate through napari's UI to install the plugin via the plugin browser\n",
        "\n",
        "After installing, activate the plugin via the plugin menu on napari"
      ],
      "metadata": {
        "id": "h9LgS4uhsK2_"
      }
    },
    {
      "cell_type": "markdown",
      "source": [
        "## Obtaining Visualisations"
      ],
      "metadata": {
        "id": "lIaXqLo08soM"
      }
    },
    {
      "cell_type": "code",
      "source": [
        "from google.colab import drive\n",
        "drive.mount('/content/drive')"
      ],
      "metadata": {
        "colab": {
          "base_uri": "https://localhost:8080/"
        },
        "id": "45nJrRKK9Ae1",
        "outputId": "a8cd458a-757f-4ef0-c1d6-6316f579966c"
      },
      "execution_count": null,
      "outputs": [
        {
          "output_type": "stream",
          "name": "stdout",
          "text": [
            "Mounted at /content/drive\n"
          ]
        }
      ]
    },
    {
      "cell_type": "markdown",
      "source": [
        "/content/drive/MyDrive/PROJECT/trackastra_out/trained_model_name/trackastra_inference/tracking_results\n",
        "\n",
        "\n"
      ],
      "metadata": {
        "id": "UqSkD-5V_G28"
      }
    }
  ]
}